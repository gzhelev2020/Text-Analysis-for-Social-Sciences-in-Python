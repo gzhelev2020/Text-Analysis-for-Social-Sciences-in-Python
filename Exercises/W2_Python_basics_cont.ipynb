{
 "cells": [
  {
   "cell_type": "markdown",
   "metadata": {},
   "source": [
    "# Brief words on Markdown\n",
    "## What is it for? \n",
    "### Isn't it useful? \n",
    "Used to write down text instead of code (used to specify instructions and information about codes). Support HTML, Latex, and all sort of stuffs, including titles, headings. For instance: \n",
    "* One dog\n",
    "* Two dogs\n",
    "* Three Corgies\n",
    "\n",
    "**So two stars give bolded text**\n",
    "*So one star is Italic*\n",
    "\n",
    "Equations are also possible, same way as we use in **Latex** : $\\beta+\\infty^\\alpha*x_{-\\beta} = 20^3$\n"
   ]
  },
  {
   "cell_type": "code",
   "execution_count": 217,
   "metadata": {},
   "outputs": [
    {
     "name": "stdout",
     "output_type": "stream",
     "text": [
      "C:\\Users\\HuyenNguyen\\Anaconda3\\python.exe\n"
     ]
    }
   ],
   "source": [
    "#BEFORE YOU START, ALWAYS: Check the path of which Python you are using to install packages\n",
    "import sys\n",
    "print(sys.executable)  "
   ]
  },
  {
   "cell_type": "markdown",
   "metadata": {},
   "source": [
    "### File handling\n",
    "\n",
    "Python has the (os) module that provides us with many useful methods to work with directories (and files as well).\n"
   ]
  },
  {
   "cell_type": "code",
   "execution_count": 112,
   "metadata": {},
   "outputs": [],
   "source": [
    "import os  #import os module"
   ]
  },
  {
   "cell_type": "code",
   "execution_count": 216,
   "metadata": {},
   "outputs": [
    {
     "name": "stdout",
     "output_type": "stream",
     "text": [
      "C:\\Users\\HuyenNguyen\\Dropbox (Erasmus Universiteit Rotterdam)\\Hamburg\n"
     ]
    }
   ],
   "source": [
    "#Locate the present working directory \n",
    "os.getcwd()\n",
    "print(os.getcwd())\n",
    "#The extra backslash implies an escape sequence. The print() function will render this properly."
   ]
  },
  {
   "cell_type": "code",
   "execution_count": 215,
   "metadata": {},
   "outputs": [
    {
     "ename": "FileNotFoundError",
     "evalue": "[WinError 2] The system cannot find the file specified: 'insert your changed working directory here'",
     "output_type": "error",
     "traceback": [
      "\u001b[1;31m---------------------------------------------------------------------------\u001b[0m",
      "\u001b[1;31mFileNotFoundError\u001b[0m                         Traceback (most recent call last)",
      "\u001b[1;32m<ipython-input-215-87441ebbbb6e>\u001b[0m in \u001b[0;36m<module>\u001b[1;34m\u001b[0m\n\u001b[0;32m      1\u001b[0m \u001b[1;31m#Change working directory\u001b[0m\u001b[1;33m\u001b[0m\u001b[1;33m\u001b[0m\u001b[1;33m\u001b[0m\u001b[0m\n\u001b[1;32m----> 2\u001b[1;33m \u001b[0mos\u001b[0m\u001b[1;33m.\u001b[0m\u001b[0mchdir\u001b[0m\u001b[1;33m(\u001b[0m\u001b[1;34m'insert your changed working directory here'\u001b[0m\u001b[1;33m)\u001b[0m\u001b[1;33m\u001b[0m\u001b[1;33m\u001b[0m\u001b[0m\n\u001b[0m\u001b[0;32m      3\u001b[0m \u001b[1;33m\u001b[0m\u001b[0m\n\u001b[0;32m      4\u001b[0m \u001b[0mprint\u001b[0m\u001b[1;33m(\u001b[0m\u001b[0mos\u001b[0m\u001b[1;33m.\u001b[0m\u001b[0mgetcwd\u001b[0m\u001b[1;33m(\u001b[0m\u001b[1;33m)\u001b[0m\u001b[1;33m)\u001b[0m\u001b[1;33m\u001b[0m\u001b[1;33m\u001b[0m\u001b[0m\n",
      "\u001b[1;31mFileNotFoundError\u001b[0m: [WinError 2] The system cannot find the file specified: 'insert your changed working directory here'"
     ]
    }
   ],
   "source": [
    "#Change working directory\n",
    "os.chdir('insert your changed working directory here')\n",
    "\n",
    "print(os.getcwd())"
   ]
  },
  {
   "cell_type": "markdown",
   "metadata": {},
   "source": [
    "**List of directories and files?**\n",
    "\n",
    "This method takes in a path and returns a list of subdirectories and files in that path. \n",
    "If no path is specified, it returns the list of subdirectories and files from the current working directory.\n",
    "\n",
    "**Making new directories?** \n",
    "\n",
    "This method takes in the path of the new directory. Similar as above, if the full path is not specified, the new directory is created in the current working directory."
   ]
  },
  {
   "cell_type": "code",
   "execution_count": 117,
   "metadata": {},
   "outputs": [
    {
     "data": {
      "text/plain": [
       "['covid_19_funding_3012021_Mechtenberg_clean_2_revised_GP_LM.rtf',\n",
       " 'covid_19_funding_3012021_Mechtenberg_clean_v3_Huyen_2401.rtf',\n",
       " 'covid_19_funding_3012021_Mechtenberg_Huyen_edit_1301.rtf',\n",
       " 'covid_19_funding_elan_11012020.rtf',\n",
       " 'covid_19_funding_elan_Huyen_edit.rtf',\n",
       " 'covid_19_funding_elan_Lydia_v2.rtf',\n",
       " 'covid_19_funding_elan_Lydia_v3_Huyen_edit.rtf',\n",
       " 'covid_vaccine_mockup_HN_22022021.pptx',\n",
       " 'Declaration_of_Compliance_8.4_Huyen_edit.docx',\n",
       " 'DFG_Forschungsgruppe_KI_Ethik_2020_Nov_6-1.docx',\n",
       " 'Email_STINE_student_06042021.txt',\n",
       " 'German_emails.docx',\n",
       " 'Information_Provision_Experiments-9-1.pdf',\n",
       " 'Informed and Voluntary Consent.docx',\n",
       " 'LVformular_SoSe2021 Methodenkurs.pdf',\n",
       " 'LVformular_SoSe2021 Methodenkurs_HuyenNguyen.pdf',\n",
       " 'Lydia_meetings.docx',\n",
       " 'MockUp_AIinCourts_2021-01-20.pptx',\n",
       " 'MockUp_AIinCourts_2021-02-16-Com_AW.pptx',\n",
       " 'MockUp_AIinCourts_2021-02-16-Com_AW_HN.pptx',\n",
       " 'MockUp_AIinCourts_2021-03-11-AW_LM_HN.pptx',\n",
       " 'MockUp_AIinCourts_2021-03-17_HH_LM_AW_HN.pptx',\n",
       " 'MockUp_AIinCourts_english_2021-08-13_hh_aw_lm_hn.pptx',\n",
       " 'NEW DEVELOPMENTS IN PUBLIC ECONOMICS protocol 13072021.docx',\n",
       " 'NEW DEVELOPMENTS IN PUBLIC ECONOMICS protocol 13072021.pdf',\n",
       " 'personalkosten-shk-tut.pdf',\n",
       " 'Positive-negative affect scale.png',\n",
       " 'Quittung_covid_Huyen.pdf',\n",
       " 'Quittung_covid_Huyen_signed.pdf',\n",
       " 'Seminar org',\n",
       " 'Stine_instruction_language.png',\n",
       " 'Teaching appWiSe2021-2022',\n",
       " 'TEACHING_UHH',\n",
       " 'Testing the Legitimacy of Moral Machines_th4.docx',\n",
       " 'The_great_persuasion_divide_gender_disparities_in_debate_speeches_HuyenNguyen.pdf',\n",
       " 'too_big_picture.PNG',\n",
       " 'Ubung 3',\n",
       " 'urlaubsantrag-en.pdf',\n",
       " 'VignettesLiteratur_AICourts_2021-01-13_AW.docx',\n",
       " 'VignettesLiteratur_AICourts_2021-01-13_AW.pptx',\n",
       " 'VignetteStudy_Design_2020-11-19.docx',\n",
       " 'VignetteStudy_Mockups_2020-12-16.pptx',\n",
       " 'Vignettes_AIinCourts_2021-01-20_Huyen_comment.pptx',\n",
       " 'WISO_Deputatsprüfung-Formular_WiSe-2020-21.xlsx']"
      ]
     },
     "execution_count": 117,
     "metadata": {},
     "output_type": "execute_result"
    }
   ],
   "source": [
    "#List of directories\n",
    "os.listdir()"
   ]
  },
  {
   "cell_type": "code",
   "execution_count": 118,
   "metadata": {},
   "outputs": [],
   "source": [
    "# Making new directories? \n",
    "os.mkdir('test_folder')"
   ]
  },
  {
   "cell_type": "markdown",
   "metadata": {},
   "source": [
    "# File handling\n",
    "\n",
    "## Opening a file\n",
    "\n",
    "Python has a built-in open() function to open a file. This function returns a file object, also called a handle, as it is used to read or modify the file accordingly.\n",
    "\n",
    "We can specify the mode while opening a file. \n",
    "\n",
    "In mode, we specify whether we want to read r, write w or append a to the file. We can also specify if we want to open the file in text mode or binary mode.\n",
    "\n",
    "The default is reading in text mode. In this mode, we get strings when reading from the file.\n",
    "\n",
    "On the other hand, binary mode returns bytes and this is the mode to be used when dealing with non-text files like images or executable files.\n"
   ]
  },
  {
   "cell_type": "code",
   "execution_count": 125,
   "metadata": {},
   "outputs": [],
   "source": [
    "#IF YOU ALREADY HAVE A FILE: Locate the path to the file you want to work \n",
    "#REMEMBER: use forelash /, NOT backlash \\\n",
    "path_to_file = \"insert the path to your file here .....\\abcd.xlsx\"\n",
    "\n"
   ]
  },
  {
   "cell_type": "code",
   "execution_count": 121,
   "metadata": {},
   "outputs": [
    {
     "name": "stdout",
     "output_type": "stream",
     "text": [
      "     speech_file_name  speech_id  debate_id  \\\n",
      "0        E08FFzz_S2_M          0          0   \n",
      "1        E08FFzz_S3_M          1          0   \n",
      "2        E08FFzz_S4_M          2          0   \n",
      "3        E08FFzz_S5_M          3          0   \n",
      "4        E08FFzz_S6_M          4          0   \n",
      "5        E08FFzz_S7_M          5          0   \n",
      "6        E08FFzz_S8_M          6          0   \n",
      "7        E09FFzz_S1_F          7          1   \n",
      "8        E09FFzz_S2_M          8          1   \n",
      "9        E09FFzz_S3_M          9          1   \n",
      "10       E09FFzz_S4_M         10          1   \n",
      "11       E09FFzz_S5_M         11          1   \n",
      "12       E09FFzz_S6_M         12          1   \n",
      "13       E09FFzz_S7_M         13          1   \n",
      "14       E09FFzz_S8_M         14          1   \n",
      "15       E09SFzz_S1_M         15          2   \n",
      "16       E09SFzz_S2_M         16          2   \n",
      "17       E09SFzz_S3_F         17          2   \n",
      "18       E09SFzz_S4_M         18          2   \n",
      "19       E09SFzz_S6_M         19          2   \n",
      "20       E09SFzz_S7_M         20          2   \n",
      "21       E09SFzz_S8_M         21          2   \n",
      "22       E10FFzz_S1_M         22          3   \n",
      "23       E10FFzz_S1_M         22          3   \n",
      "24       E10FFzz_S2_M         23          3   \n",
      "25       E10FFzz_S3_M         24          3   \n",
      "26       E10FFzz_S4_M         25          3   \n",
      "27       E10FFzz_S5_M         26          3   \n",
      "28       E10FFzz_S6_M         27          3   \n",
      "29       E10FFzz_S7_M         28          3   \n",
      "...               ...        ...        ...   \n",
      "1879     W1803zz_S1_M       1488        194   \n",
      "1880     W1803zz_S2_M       1489        194   \n",
      "1881     W1803zz_S3_F       1490        194   \n",
      "1882     W1803zz_S4_M       1491        194   \n",
      "1883     W1803zz_S4_M       1491        194   \n",
      "1884     W1803zz_S5_F       1492        194   \n",
      "1885     W1803zz_S6_M       1493        194   \n",
      "1886     W1803zz_S7_M       1494        194   \n",
      "1887     W1803zz_S8_M       1495        194   \n",
      "1888     W18040B_S1_M       1496        195   \n",
      "1889     W18040B_S2_M       1497        195   \n",
      "1890     W18040B_S3_F       1498        195   \n",
      "1891     W18040B_S4_M       1499        195   \n",
      "1892     W18040B_S5_M       1500        195   \n",
      "1893     W18040B_S6_M       1501        195   \n",
      "1894     W18040B_S7_M       1502        195   \n",
      "1895     W18050B_S1_F       1503        196   \n",
      "1896     W18050B_S2_M       1504        196   \n",
      "1897     W18050B_S3_F       1505        196   \n",
      "1898     W18050B_S4_M       1506        196   \n",
      "1899     W18050B_S5_F       1507        196   \n",
      "1900     W18050B_S6_F       1508        196   \n",
      "1901     W18050B_S7_M       1509        196   \n",
      "1902     W18050B_S8_F       1510        196   \n",
      "1903     W18SF02_S2_M       1511        197   \n",
      "1904     W18SF02_S3_F       1512        197   \n",
      "1905     W18SF02_S4_M       1513        197   \n",
      "1906     W18SF02_S6_M       1514        197   \n",
      "1907     W18SF02_S7_M       1515        197   \n",
      "1908     W18SF02_S8_M       1516        197   \n",
      "\n",
      "                                     no[]_question_text  \\\n",
      "0     If every element of these peoples' lives focus...   \n",
      "1     Swastikas already have a taboo on them. Why is...   \n",
      "2     So our case is find for the swastika, but not ...   \n",
      "3     Doesn't it somewhat undermine the idea of agen...   \n",
      "4     If you're a Black person walking down the stre...   \n",
      "5     Alex claimed that symbols don't express cohere...   \n",
      "6     So if as you claim it is so useful for these g...   \n",
      "7     If you believe in the social contract, and you...   \n",
      "8                                                   NaN   \n",
      "9     Suppose Max and Joni have a social contract, t...   \n",
      "10                                                  NaN   \n",
      "11    Your immigration policy of \"let's just throw m...   \n",
      "12                                                  NaN   \n",
      "13    It is uh It is true that the social contract i...   \n",
      "14    Given that it's the sharing of social values a...   \n",
      "15                                                  NaN   \n",
      "16    Can you do some analysis of what your criteria...   \n",
      "17    It doesn't make a tangible, uh uh uh, differen...   \n",
      "18    Is it maybe the fact that they think that reli...   \n",
      "19    Why is this different to bombing important sit...   \n",
      "20    By your standard, it's okay to murder and rape...   \n",
      "21    Why is it the religious sites should be exempt...   \n",
      "22    So when the majority was being persecuted by t...   \n",
      "23    Who takes power in Iraq when the U.S. goes hom...   \n",
      "24    Can you explain to me why the government of th...   \n",
      "25    Okay. Why would the Serbs in Kosovo, given tha...   \n",
      "26    So, when do you think the forces should leave ...   \n",
      "27                                                  NaN   \n",
      "28    Why is the right thing to do not to wait until...   \n",
      "29    So, how do you think it plays if you try and r...   \n",
      "...                                                 ...   \n",
      "1879  Are you fine with automatically convicting eve...   \n",
      "1880  Sure. So, presumably the usual case for police...   \n",
      "1881  So, what I wanna helping me out this bulldozin...   \n",
      "1882  Why is this forced murder necessary, presumabl...   \n",
      "1883  Yeah. So, you just said how police are now goi...   \n",
      "1884  I think that he's willing to accept automatic ...   \n",
      "1885  Sure. So, given that police officers are getti...   \n",
      "1886  The public is being told by the police departm...   \n",
      "1887  Okay. So, you say you're the only team that ta...   \n",
      "1888  G-given that all the anthropological work is s...   \n",
      "1889  Does it matter if an individual goes to an in ...   \n",
      "1890  So, it seems to you that you said curators are...   \n",
      "1891  You have not disputed the Mona Lisa doesn't re...   \n",
      "1892  Sure, if your PR is good for marketing, which ...   \n",
      "1893  Your extension relies on the absurd assumption...   \n",
      "1894  So, if you can, like, kind of understand that ...   \n",
      "1895  So say, for example, if I was voting on the TP...   \n",
      "1896  Okay. So your argument that extremism is an ar...   \n",
      "1897  So given that you're problem is that women hav...   \n",
      "1898  Okay. So you give us no measure for how to dec...   \n",
      "1899  Why would I bother electing my councilor, um, ...   \n",
      "1900                                                NaN   \n",
      "1901  Okay. In British elections only got 12% becaus...   \n",
      "1902  This policy is rather moot when your elected o...   \n",
      "1903  So all creditors allow you to defensiveness, o...   \n",
      "1904  Your argument is that creditors have more powe...   \n",
      "1905  If individual spheres of international law are...   \n",
      "1906                                                NaN   \n",
      "1907                                                NaN   \n",
      "1908  Your opening, about 2000s, is precisely why do...   \n",
      "\n",
      "                                       no[]_answer_text  \n",
      "0     We may well ban other things. That's fine. We ...  \n",
      "1     Well, we think they have that taboo on them bu...  \n",
      "2     Oh come on, William. Come on, William. We say,...  \n",
      "3     Only in the very benign sense that telling any...  \n",
      "4     Thank you. And what we say, ladies and gentlem...  \n",
      "5     We're both right because you've misunderstood ...  \n",
      "6     Because Simon, I don't think that Nazis are ve...  \n",
      "7     We believe that the social contract arises wit...  \n",
      "8                                                   NaN  \n",
      "9     No. You get to sign uh governments get to sign...  \n",
      "10                                                  NaN  \n",
      "11    Ok, first policy, we reject that policy on a f...  \n",
      "12                                                  NaN  \n",
      "13    I will answer uh I will uh I will have the cri...  \n",
      "14    Um, share their values that value through a st...  \n",
      "15                                                  NaN  \n",
      "16    Yes, excellent. Okay, we say that this causes ...  \n",
      "17    No, what I'm saying is that uh Listen to me. I...  \n",
      "18    No. and that's what my next point is going to ...  \n",
      "19    No. No, it's not different. If something is so...  \n",
      "20    Point is, right, we are trying to end the loss...  \n",
      "21    Thank you, thank you, Ben. Really what it is, ...  \n",
      "22    Yeah, no, we seek both. We have to get majorit...  \n",
      "23            The newly-elected Iraqi government, Jack.  \n",
      "24    Yeah. Absolutely, I can. When they can ensure ...  \n",
      "25    The US government presents a system of checks ...  \n",
      "26    I uh I'll tell you what. That is a decision th...  \n",
      "27                                                  NaN  \n",
      "28    Uh, we suggest several reasons. First of all, ...  \n",
      "29    Um, we think it's possible to re-intervene whe...  \n",
      "...                                                 ...  \n",
      "1879  Of course not. What we're saying, that given t...  \n",
      "1880  Now, is also used in other circumstances, beca...  \n",
      "1881  Exactly for what I said at the very beginning ...  \n",
      "1882  Because before the fact come out, there were a...  \n",
      "1883  Right. The point is that racist police which a...  \n",
      "1884  Sure. So, when you can indicate, like, the ult...  \n",
      "1885  Because that's seems non sensical on in uh on ...  \n",
      "1886  The public is being told by the police departm...  \n",
      "1887  Thank you, thank you. But that's not how the s...  \n",
      "1888  So, museums often have anti-galleries, right. ...  \n",
      "1889  So, I still think you can do this, because the...  \n",
      "1890  That ignores literally all the analysis I just...  \n",
      "1891  That's still dependent on who'll be actually s...  \n",
      "1892  I don't care about marketing. I care that peop...  \n",
      "1893  So, so, first of all, the entire thing on cycl...  \n",
      "1894  This is a nastily narrow way of the way people...  \n",
      "1895  Well, the point is that if you wanted to, you ...  \n",
      "1896  Two things on this. First, as we explained the...  \n",
      "1897  Well, aren't you uh that's so unresponsive bec...  \n",
      "1898  So uh so clearly not. We're, like, saying we d...  \n",
      "1899  Sure. So we think that those individuals are p...  \n",
      "1900                                                NaN  \n",
      "1901  So I was actually about to give this which is ...  \n",
      "1902  So. Okay. So. Here's the thing. Ashley explain...  \n",
      "1903  No, the point is it makes it easier for them t...  \n",
      "1904  Is the ultimate power that creditors have the ...  \n",
      "1905  If individual spheres of international law are...  \n",
      "1906                                                NaN  \n",
      "1907                                                NaN  \n",
      "1908  I'm sorry, I clearly didn't look to be uh Look...  \n",
      "\n",
      "[1909 rows x 5 columns]\n"
     ]
    }
   ],
   "source": [
    "#And then open the file\n",
    "import pandas as pd \n",
    "df= pd.read_excel(path_to_file) #If the file has multiple sheet, you can add (path, sheet_name = \"Sheet1\")\n",
    "print (df) # view the file"
   ]
  },
  {
   "cell_type": "markdown",
   "metadata": {},
   "source": [
    "Check this blog for further information https://datatofish.com/read_excel/"
   ]
  },
  {
   "cell_type": "code",
   "execution_count": null,
   "metadata": {},
   "outputs": [],
   "source": [
    "#IF not, after you have located your preferred working directory, open the chosen file with\n",
    " \n",
    "f = open(\"test.txt\")    # open file in current directory\n",
    "f = open(\"C:/Python38/README.txt\")  # specifying full path\n",
    "f = open(\"test.txt\")      # equivalent to 'r' or 'rt'\n",
    "f = open(\"test.txt\",'w')  # write in text mode\n",
    "f = open(\"img.bmp\",'r+b') # read and write in binary mode\n",
    "\n"
   ]
  },
  {
   "cell_type": "markdown",
   "metadata": {},
   "source": [
    "Check further operations and practise on your own in this tutorial https://www.programiz.com/python-programming/file-operation"
   ]
  },
  {
   "cell_type": "markdown",
   "metadata": {},
   "source": [
    "**IMPORTANT NOTE on encoding:**\n",
    "\n",
    "Unlike other languages, the character a does not imply the number 97 until it is encoded using ASCII (or other equivalent encodings).\n",
    "\n",
    "Moreover, the default encoding is platform dependent. In Windows, it is cp1252 but utf-8 in Linux.\n",
    "\n",
    "So, we must not rely on the default encoding or else our code will behave differently in different platforms.\n",
    "\n",
    "Hence, when working with files in text mode, it is highly recommended to *specify the encoding type*."
   ]
  },
  {
   "cell_type": "code",
   "execution_count": null,
   "metadata": {},
   "outputs": [],
   "source": [
    "f = open(\"test.txt\", encoding = 'utf-8')\n",
    "# perform file operations\n",
    "f.close()"
   ]
  },
  {
   "cell_type": "markdown",
   "metadata": {},
   "source": [
    "## Closing a file \n",
    "\n",
    "The safest way to close a file is by using the with statement. This ensures that the file is closed when the block inside the with statement is exited.\n",
    "\n",
    "We don't need to explicitly call the close() method. It is done internally."
   ]
  },
  {
   "cell_type": "code",
   "execution_count": null,
   "metadata": {},
   "outputs": [],
   "source": [
    "with open(\"test.txt\", encoding = 'utf-8') as f:\n",
    "   # perform file operations"
   ]
  },
  {
   "cell_type": "markdown",
   "metadata": {},
   "source": [
    "# Conditional Statement  \n",
    "Execute a piece of code only if a set of one or more conditions is satisfied.\n",
    "\n",
    "(!) Python relies on indentation (whitespace at the beginning of a line) to define scope in the code. Other programming languages often use curly-brackets for this purpose. Try the following example...\n"
   ]
  },
  {
   "cell_type": "code",
   "execution_count": 130,
   "metadata": {},
   "outputs": [
    {
     "name": "stdout",
     "output_type": "stream",
     "text": [
      "x is larger than y\n"
     ]
    }
   ],
   "source": [
    "x = 5\n",
    "y = 4\n",
    "if x>y:\n",
    "    print(\"x is larger than y\")"
   ]
  },
  {
   "cell_type": "code",
   "execution_count": 134,
   "metadata": {},
   "outputs": [
    {
     "name": "stdout",
     "output_type": "stream",
     "text": [
      "x is larger than y\n"
     ]
    }
   ],
   "source": [
    "x= 10\n",
    "y = -1\n",
    "if x>y:\n",
    "    print(\"x is larger than y\")\n",
    "elif x<=y:\n",
    "    print (\"x is smaller than y\")"
   ]
  },
  {
   "cell_type": "code",
   "execution_count": 135,
   "metadata": {},
   "outputs": [
    {
     "name": "stdout",
     "output_type": "stream",
     "text": [
      "x equals to y\n"
     ]
    }
   ],
   "source": [
    "x= 10\n",
    "y = 10\n",
    "if x>y:\n",
    "    print(\"x is larger than y\")\n",
    "elif x<y:\n",
    "    print (\"x is smaller than y\")\n",
    "elif x==y:  #MUST be ==, not =\n",
    "    print (\"x equals to y\")"
   ]
  },
  {
   "cell_type": "markdown",
   "metadata": {},
   "source": [
    "### IF, ELSE, FOR statements ALWAYS end with a colon (:)\n",
    "\n",
    "● Add indentation after an if, else or for statement\n",
    "if some_condition:\n",
    " Next_statement\n",
    " \n",
    "● Maintain indent to indicate the scope of the if/else/for block i.e lines which are \n",
    "executed under the condition represented by if/else/for statements.\n",
    "\n",
    "● Reduce indent back to the level of if/else/for statement to indicate the end of \n",
    "that conditional block i.e end of scope of if/else/for statement\n",
    "\n",
    "● Blank lines and comments are ignored - do not affect indentations or scop"
   ]
  },
  {
   "cell_type": "code",
   "execution_count": 142,
   "metadata": {},
   "outputs": [
    {
     "name": "stdout",
     "output_type": "stream",
     "text": [
      "Positive number\n"
     ]
    }
   ],
   "source": [
    "#Nested decision: Which statement will it print? Why?\n",
    "x = 9\n",
    "if x>0:\n",
    "    print(\"Positive number\")\n",
    "if x>=10:\n",
    "    print (\"More than 1 digit\")\n",
    "    print (\"Finished\")"
   ]
  },
  {
   "cell_type": "code",
   "execution_count": 146,
   "metadata": {},
   "outputs": [
    {
     "name": "stdout",
     "output_type": "stream",
     "text": [
      "small\n"
     ]
    }
   ],
   "source": [
    "#Multiway decision: Using if and else only \n",
    "#Try different value in the \"input\" below: -10, 18, 20, 79, 4, 2, 11\n",
    "input = -10\n",
    "x = int(input)  # Python int() function? \n",
    "if x<=5:\n",
    "    print ('small')\n",
    "else:\n",
    "    if x<=10:\n",
    "        print ('small')\n",
    "    else:\n",
    "        print ('high')"
   ]
  },
  {
   "cell_type": "code",
   "execution_count": 147,
   "metadata": {},
   "outputs": [
    {
     "name": "stdout",
     "output_type": "stream",
     "text": [
      "small\n"
     ]
    }
   ],
   "source": [
    "#What about elif?\n",
    "input = 2\n",
    "x = int(input)\n",
    "if x<=5:\n",
    "    print ('small')\n",
    "elif x<=10:\n",
    "    print ('small')\n",
    "else:\n",
    "    print ('high')"
   ]
  },
  {
   "cell_type": "markdown",
   "metadata": {},
   "source": [
    "### YOUR EXERCISE: \n",
    "\n",
    "Categorize shirt sizes given their length, such that:\n",
    "\n",
    "anything below 30 is size S, between 30 and 35 is M, between 35 and 40 is L, between 40 and 50 is XL, otherwise XXL."
   ]
  },
  {
   "cell_type": "code",
   "execution_count": 151,
   "metadata": {},
   "outputs": [
    {
     "name": "stdout",
     "output_type": "stream",
     "text": [
      "L\n"
     ]
    }
   ],
   "source": [
    "#Example: elif for shirt size length categorization\n",
    "input = 37\n",
    "x = int(input)\n",
    "if x<=30:\n",
    "    print  ('S')\n",
    "elif x<=35:\n",
    "    print ('M')\n",
    "elif x<=40:\n",
    "    print ('L')\n",
    "elif x<=50:\n",
    "    print ('XL')\n",
    "else:\n",
    "    print ('XXL')"
   ]
  },
  {
   "cell_type": "markdown",
   "metadata": {},
   "source": [
    "=> **elif** helps avoid too many nested statements and improves readability."
   ]
  },
  {
   "cell_type": "markdown",
   "metadata": {},
   "source": [
    "**Example**: Search whether university X belongs to the lists below with if/elif/else conditions."
   ]
  },
  {
   "cell_type": "code",
   "execution_count": 94,
   "metadata": {},
   "outputs": [],
   "source": [
    "excellent_uni = [\"RWTH Aachen\", \"Berlin U Alliance\", \"Bonn\", \"TU Dresden\", \"Uni Hamburg\", \"Uni Heidelberg\", \"KIT\", \n",
    "\"Uni Konstanz\", \"LMU\", \"TUM\", \"Uni Tuebingen\"] \n",
    "ivys = ['Harvard','Yale','Princeton','Columbia','Dartmouth','Brown','Cornell','Penn']"
   ]
  },
  {
   "cell_type": "code",
   "execution_count": 152,
   "metadata": {},
   "outputs": [
    {
     "name": "stdout",
     "output_type": "stream",
     "text": [
      "Ivy League University\n"
     ]
    }
   ],
   "source": [
    "uni = \"Harvard\"\n",
    "if uni in excellent_uni:\n",
    "    print(\"Excellent Initiative University\") \n",
    "elif uni in ivys:\n",
    "    print(\"Ivy League University\")\n",
    "else:\n",
    "    print(\"Neither Excellent Intiative nor Ivy League University\")"
   ]
  },
  {
   "cell_type": "markdown",
   "metadata": {},
   "source": [
    "# Functions\n",
    "\n",
    "Python functions are defined using the `def` keyword. For example:"
   ]
  },
  {
   "cell_type": "code",
   "execution_count": 154,
   "metadata": {},
   "outputs": [
    {
     "name": "stdout",
     "output_type": "stream",
     "text": [
      "negative\n",
      "positive\n",
      "zero\n"
     ]
    }
   ],
   "source": [
    "def sign(x):\n",
    "    if x > 0:\n",
    "        return 'positive'\n",
    "    elif x < 0:\n",
    "        return 'negative'\n",
    "    else:\n",
    "        return 'zero'\n",
    "\n",
    "for x in [-1, 20, 0]:\n",
    "    print(sign(x))\n",
    "\n"
   ]
  },
  {
   "cell_type": "markdown",
   "metadata": {},
   "source": [
    "We will often define functions to take optional keyword arguments, like this:"
   ]
  },
  {
   "cell_type": "code",
   "execution_count": 207,
   "metadata": {},
   "outputs": [
    {
     "name": "stdout",
     "output_type": "stream",
     "text": [
      "Hi, Bob!\n",
      "HELLO, WENDY\n"
     ]
    }
   ],
   "source": [
    "def hello(name, big=False):\n",
    "    if big:\n",
    "        print('HELLO, {}'.format(name.upper()))\n",
    "    else:\n",
    "        print('Hi, {}!'.format(name))\n",
    "\n",
    "hello('Bob')\n",
    "hello('Wendy', big=True)"
   ]
  },
  {
   "cell_type": "markdown",
   "metadata": {},
   "source": [
    "# Classes\n",
    "\n",
    "Python is an object oriented programming language. Almost everything in Python is an object, with its properties and methods.\n",
    "A Class is like an object constructor, or a \"blueprint\" for creating objects. \n",
    "\n",
    "Class definitions, like function definitions (def statements) must be executed before they have any effect. Here is the detailed documentation of classes in Python.https://docs.python.org/3/tutorial/classes.html\n",
    "\n",
    "The syntax for defining classes in Python is straightforward:"
   ]
  },
  {
   "cell_type": "code",
   "execution_count": 208,
   "metadata": {},
   "outputs": [
    {
     "name": "stdout",
     "output_type": "stream",
     "text": [
      "Hello, Henry!\n",
      "HELLO, HENRY\n"
     ]
    }
   ],
   "source": [
    "class Greeter:\n",
    "\n",
    "    # Constructor\n",
    "    def __init__(self, name):\n",
    "        self.name = name  # Create an instance variable\n",
    "\n",
    "    # Instance method\n",
    "    def greet(self, big=False):\n",
    "        if big:\n",
    "          print('HELLO, {}'.format(self.name.upper()))\n",
    "        else:\n",
    "          print('Hello, {}!'.format(self.name))\n",
    "\n",
    "g = Greeter('Henry')  # Construct an instance of the Greeter class\n",
    "g.greet()            # Call an instance method; prints \"Hello, Fred\"\n",
    "g.greet(big=True)   # Call an instance method; prints \"HELLO, FRED!\""
   ]
  },
  {
   "cell_type": "markdown",
   "metadata": {},
   "source": [
    "All classes have a function called __init__(), which is always executed when the class is being initiated. The __init__() function is called automatically every time the class is being used to create a new object.\n",
    "\n",
    "\n",
    "Use the __init__() function to assign values to object properties, or other operations that are necessary to do when the object is being created. Take an example below:"
   ]
  },
  {
   "cell_type": "code",
   "execution_count": 165,
   "metadata": {},
   "outputs": [
    {
     "name": "stdout",
     "output_type": "stream",
     "text": [
      "John\n",
      "36\n"
     ]
    }
   ],
   "source": [
    "class Person:\n",
    "  def __init__(self, name, age):\n",
    "    self.name = name\n",
    "    self.age = age\n",
    "\n",
    "p1 = Person(\"John\", 36)\n",
    "\n",
    "print(p1.name)\n",
    "print(p1.age)"
   ]
  },
  {
   "cell_type": "markdown",
   "metadata": {},
   "source": [
    "# Loops (for)\n",
    "\n",
    "Begins with for keyword, always with pre-determined exit condition.\n",
    "\n"
   ]
  },
  {
   "cell_type": "code",
   "execution_count": 166,
   "metadata": {
    "scrolled": true
   },
   "outputs": [
    {
     "name": "stdout",
     "output_type": "stream",
     "text": [
      "5\n",
      "4\n",
      "3\n",
      "2\n",
      "1\n",
      "L(i)ft off!!\n"
     ]
    }
   ],
   "source": [
    "n = [5, 4, 3, 2, 1]\n",
    "for i in n:\n",
    " print(i)\n",
    "print(\"L(i)ft off!!\")\n",
    "      "
   ]
  },
  {
   "cell_type": "markdown",
   "metadata": {},
   "source": [
    "One useful command: None = denotes nothing in the Python world.\n",
    "\n",
    "(You can use value is None, OR value == None, both are fine).\n"
   ]
  },
  {
   "cell_type": "code",
   "execution_count": null,
   "metadata": {},
   "outputs": [],
   "source": [
    "if value is None:\n",
    " print (\"Does not exist\")\n",
    "else:\n",
    " print(value)"
   ]
  },
  {
   "cell_type": "markdown",
   "metadata": {},
   "source": [
    "**YOUR EXERCISE:** Print...\n",
    "\n",
    "(1) all numbers that are greater than 20\n",
    "\n",
    "(2) sum of numbers \n",
    "\n",
    "(3) average \n",
    "\n",
    "(4) smallest/largest number \n",
    "\n",
    "of the list below."
   ]
  },
  {
   "cell_type": "code",
   "execution_count": null,
   "metadata": {},
   "outputs": [],
   "source": [
    "#This is the number list you can play around with for the exercise\n",
    "number_list = [0, 15, 23, 28, 50, -5, 3, 20]\n"
   ]
  },
  {
   "cell_type": "markdown",
   "metadata": {},
   "source": [
    "Loops can also be used with strings. In fact, in Python, you can iterate over any type ‘iterable’ of data / object sets.\n"
   ]
  },
  {
   "cell_type": "markdown",
   "metadata": {},
   "source": [
    "for char in string:\n",
    "\n",
    "for string in string_list:\n",
    "\n",
    "for key in dictionary:\n",
    "\n",
    "for number in number_list:\n",
    "\n",
    "for any_object in objects_list:\n",
    "\n",
    "for line in file().text.read()"
   ]
  },
  {
   "cell_type": "code",
   "execution_count": 168,
   "metadata": {},
   "outputs": [
    {
     "name": "stdout",
     "output_type": "stream",
     "text": [
      "Hermione\n",
      "Harry\n",
      "Ron\n"
     ]
    }
   ],
   "source": [
    "names = ['Hermione', 'Harry', 'Ron'] #List of names, works with strings too\n",
    "for name in names:\n",
    " print(name)"
   ]
  },
  {
   "cell_type": "markdown",
   "metadata": {},
   "source": [
    "# Numpy"
   ]
  },
  {
   "cell_type": "markdown",
   "metadata": {},
   "source": [
    "Numpy is the core library for scientific computing in Python. It provides a high-performance multidimensional array object, and tools for working with these arrays. If you are already familiar with MATLAB, you might find this [tutorial](http://wiki.scipy.org/NumPy_for_Matlab_Users) useful to get started with Numpy.\n",
    "\n",
    "To start with numpy, we need to import the package, as follows:"
   ]
  },
  {
   "cell_type": "code",
   "execution_count": 170,
   "metadata": {},
   "outputs": [],
   "source": [
    "import numpy as np"
   ]
  },
  {
   "cell_type": "markdown",
   "metadata": {},
   "source": [
    "## Array\n",
    "\n",
    "A numpy array is a grid of values, all of the same type, and is indexed by a tuple of nonnegative integers. The number of dimensions is the rank of the array; the shape of an array is a tuple of integers giving the size of the array along each dimension.\n",
    "\n",
    "We can initialize numpy arrays from nested Python lists, and access elements using square brackets:"
   ]
  },
  {
   "cell_type": "code",
   "execution_count": 172,
   "metadata": {},
   "outputs": [
    {
     "name": "stdout",
     "output_type": "stream",
     "text": [
      "<class 'numpy.ndarray'> (3,) 1 2 3\n",
      "[10  2  3]\n"
     ]
    }
   ],
   "source": [
    "a = np.array([1, 2, 3])  # Create a rank 1 array\n",
    "print(type(a), a.shape, a[0], a[1], a[2])\n",
    "a[0] = 10                # Change an element of the array\n",
    "print(a)    "
   ]
  },
  {
   "cell_type": "code",
   "execution_count": 174,
   "metadata": {},
   "outputs": [
    {
     "name": "stdout",
     "output_type": "stream",
     "text": [
      "[[1 2 3]\n",
      " [4 5 6]]\n"
     ]
    }
   ],
   "source": [
    "b = np.array([[1,2,3],[4,5,6]])   # Create a rank 2 array\n",
    "print(b)"
   ]
  },
  {
   "cell_type": "code",
   "execution_count": 175,
   "metadata": {},
   "outputs": [
    {
     "name": "stdout",
     "output_type": "stream",
     "text": [
      "(2, 3)\n",
      "1 2 4\n"
     ]
    }
   ],
   "source": [
    "print(b.shape)\n",
    "print(b[0, 0], b[0, 1], b[1, 0]) # [x,y] = [row,column] (0 = first, 1 = second...)"
   ]
  },
  {
   "cell_type": "markdown",
   "metadata": {},
   "source": [
    "Numpy also provides many functions to create arrays:"
   ]
  },
  {
   "cell_type": "code",
   "execution_count": 178,
   "metadata": {},
   "outputs": [
    {
     "name": "stdout",
     "output_type": "stream",
     "text": [
      "[[0. 0. 0. 0. 0.]\n",
      " [0. 0. 0. 0. 0.]\n",
      " [0. 0. 0. 0. 0.]]\n"
     ]
    }
   ],
   "source": [
    "a = np.zeros((3,5))  # Create an array of all zeros\n",
    "print(a)"
   ]
  },
  {
   "cell_type": "code",
   "execution_count": 181,
   "metadata": {},
   "outputs": [
    {
     "name": "stdout",
     "output_type": "stream",
     "text": [
      "[[1. 1. 1. 1. 1. 1.]\n",
      " [1. 1. 1. 1. 1. 1.]\n",
      " [1. 1. 1. 1. 1. 1.]]\n"
     ]
    }
   ],
   "source": [
    "b = np.ones((3,6))   # Create an array of all ones\n",
    "print(b)"
   ]
  },
  {
   "cell_type": "code",
   "execution_count": 183,
   "metadata": {},
   "outputs": [
    {
     "name": "stdout",
     "output_type": "stream",
     "text": [
      "[[10 10]\n",
      " [10 10]]\n"
     ]
    }
   ],
   "source": [
    "c = np.full((2,2), 10) # Create a constant array\n",
    "print(c)"
   ]
  },
  {
   "cell_type": "code",
   "execution_count": 185,
   "metadata": {},
   "outputs": [
    {
     "name": "stdout",
     "output_type": "stream",
     "text": [
      "[[1. 0. 0. 0. 0. 0.]\n",
      " [0. 1. 0. 0. 0. 0.]\n",
      " [0. 0. 1. 0. 0. 0.]\n",
      " [0. 0. 0. 1. 0. 0.]\n",
      " [0. 0. 0. 0. 1. 0.]\n",
      " [0. 0. 0. 0. 0. 1.]]\n"
     ]
    }
   ],
   "source": [
    "d = np.eye(6)        # Create a 2x2 identity matrix\n",
    "print(d)"
   ]
  },
  {
   "cell_type": "code",
   "execution_count": 187,
   "metadata": {},
   "outputs": [
    {
     "name": "stdout",
     "output_type": "stream",
     "text": [
      "[[0.75439813 0.15539091 0.33836008 0.15705843 0.61726493 0.24367625]\n",
      " [0.58247485 0.41069497 0.8440117  0.17935535 0.59595308 0.48658702]\n",
      " [0.79728245 0.0416252  0.52247357 0.39623523 0.11282335 0.38107101]\n",
      " [0.70245189 0.78346541 0.71463105 0.06676463 0.18329011 0.76700365]\n",
      " [0.9038227  0.15247867 0.54455628 0.85579134 0.12374589 0.3452705 ]\n",
      " [0.02519027 0.78402939 0.00239982 0.28707814 0.95376468 0.25104218]\n",
      " [0.93893126 0.64107431 0.94833694 0.58530271 0.1843876  0.91802416]\n",
      " [0.41090426 0.98465772 0.09811888 0.28488722 0.31417824 0.11715241]\n",
      " [0.87498631 0.67327945 0.96063951 0.04170101 0.39014574 0.448285  ]]\n"
     ]
    }
   ],
   "source": [
    "e = np.random.random((9,6)) # Create an array filled with random values\n",
    "print(e)"
   ]
  },
  {
   "cell_type": "markdown",
   "metadata": {},
   "source": [
    "### Array Indexing\n",
    "\n",
    "**Slicing**: Similar to Python lists, numpy arrays can be sliced. Since arrays may be multidimensional, you must specify a slice for each dimension of the array:\n"
   ]
  },
  {
   "cell_type": "code",
   "execution_count": 190,
   "metadata": {},
   "outputs": [
    {
     "name": "stdout",
     "output_type": "stream",
     "text": [
      "[[ 1  2  3  4]\n",
      " [ 5  6  7  8]\n",
      " [ 9 10 11 12]]\n",
      "[[ 2  3]\n",
      " [ 6  7]\n",
      " [10 11]]\n"
     ]
    }
   ],
   "source": [
    "import numpy as np\n",
    "\n",
    "# Create the following rank 2 array with shape (3, 4)\n",
    "# [[ 1  2  3  4]\n",
    "#  [ 5  6  7  8]\n",
    "#  [ 9 10 11 12]]\n",
    "a = np.array([[1,2,3,4], [5,6,7,8], [9,10,11,12]])\n",
    "print(a)\n",
    "\n",
    "# Use slicing to pull out the subarray consisting of the first 2 rows\n",
    "# and columns 1 and 2; b is the following array of shape (2, 2):\n",
    "# [[2 3]\n",
    "#  [6 7]]\n",
    "b = a[:3, 1:3] #row 0 and 1, elements columns of (n-1)\n",
    "print(b)"
   ]
  },
  {
   "cell_type": "markdown",
   "metadata": {},
   "source": [
    "A slice of an array is a view into the same data, so modifying it will modify the original array."
   ]
  },
  {
   "cell_type": "code",
   "execution_count": 194,
   "metadata": {},
   "outputs": [
    {
     "name": "stdout",
     "output_type": "stream",
     "text": [
      "77\n",
      "77\n"
     ]
    }
   ],
   "source": [
    "print(a[0, 1]) \n",
    "b[0, 0] = 77    # b[0, 0] is the same piece of data as a[0, 1]\n",
    "print(a[0, 1]) "
   ]
  },
  {
   "cell_type": "markdown",
   "metadata": {},
   "source": [
    "You can also mix integer indexing with slice indexing. However, doing so will yield an array of lower rank than the original array. \n",
    "\n",
    "**NOTE!** This is quite different from the way that MATLAB handles array slicing:"
   ]
  },
  {
   "cell_type": "code",
   "execution_count": 195,
   "metadata": {},
   "outputs": [
    {
     "name": "stdout",
     "output_type": "stream",
     "text": [
      "[[ 1  2  3  4]\n",
      " [ 5  6  7  8]\n",
      " [ 9 10 11 12]]\n"
     ]
    }
   ],
   "source": [
    "# Create the following rank 2 array with shape (3, 4)\n",
    "a = np.array([[1,2,3,4], [5,6,7,8], [9,10,11,12]])\n",
    "print(a)"
   ]
  },
  {
   "cell_type": "markdown",
   "metadata": {},
   "source": [
    "Two ways of accessing the data in the middle row of the array.\n",
    "Mixing integer indexing with slices yields an array of lower rank,\n",
    "while using only slices yields an array of the same rank as the\n",
    "original array:"
   ]
  },
  {
   "cell_type": "code",
   "execution_count": 199,
   "metadata": {},
   "outputs": [
    {
     "name": "stdout",
     "output_type": "stream",
     "text": [
      "[[5 6 7 8]] (1, 4)\n",
      "[[5 6 7 8]] (1, 4)\n"
     ]
    }
   ],
   "source": [
    "row_r2 = a[1:2, :]  # Rank 2 view of the second row of a\n",
    "row_r3 = a[[1], :]  # Rank 2 view of the second row of a\n",
    "print(row_r2, row_r2.shape)\n",
    "print(row_r3, row_r3.shape)"
   ]
  },
  {
   "cell_type": "code",
   "execution_count": 196,
   "metadata": {},
   "outputs": [
    {
     "name": "stdout",
     "output_type": "stream",
     "text": [
      "[5 6 7 8] (4,)\n"
     ]
    }
   ],
   "source": [
    "row_r1 = a[1, :]    # Rank 1 view of the second row of a  \n",
    "print(row_r1, row_r1.shape)\n"
   ]
  },
  {
   "cell_type": "code",
   "execution_count": 197,
   "metadata": {},
   "outputs": [
    {
     "name": "stdout",
     "output_type": "stream",
     "text": [
      "[ 2  6 10] (3,)\n",
      "\n",
      "[[ 2]\n",
      " [ 6]\n",
      " [10]] (3, 1)\n"
     ]
    }
   ],
   "source": [
    "# We can make the same distinction when accessing columns of an array:\n",
    "\n",
    "col_r2 = a[:, 1:2]\n",
    "print()\n",
    "print(col_r2, col_r2.shape)"
   ]
  },
  {
   "cell_type": "code",
   "execution_count": 198,
   "metadata": {},
   "outputs": [
    {
     "name": "stdout",
     "output_type": "stream",
     "text": [
      "[ 2  6 10] (3,)\n"
     ]
    }
   ],
   "source": [
    "col_r1 = a[:, 1] \n",
    "print(col_r1, col_r1.shape)\n"
   ]
  },
  {
   "cell_type": "markdown",
   "metadata": {},
   "source": [
    "**Integer array indexing**\n",
    "\n",
    "When you index into numpy arrays using slicing, the resulting array view will always be a subarray of the original array. In contrast, integer array indexing allows you to construct arbitrary arrays using the data from another array. Here is an example:"
   ]
  },
  {
   "cell_type": "code",
   "execution_count": 209,
   "metadata": {},
   "outputs": [
    {
     "name": "stdout",
     "output_type": "stream",
     "text": [
      "[[1 2]\n",
      " [3 4]\n",
      " [5 6]]\n"
     ]
    }
   ],
   "source": [
    "a = np.array([[1,2], [3, 4], [5, 6]])\n",
    "print(a)\n"
   ]
  },
  {
   "cell_type": "code",
   "execution_count": 201,
   "metadata": {},
   "outputs": [
    {
     "name": "stdout",
     "output_type": "stream",
     "text": [
      "[1 4 5]\n"
     ]
    }
   ],
   "source": [
    "# An example of integer array indexing.\n",
    "# The returned array will have shape (3,) and \n",
    "print(a[[0, 1, 2], [0, 1, 0]]) "
   ]
  },
  {
   "cell_type": "code",
   "execution_count": 210,
   "metadata": {},
   "outputs": [
    {
     "name": "stdout",
     "output_type": "stream",
     "text": [
      "[1 4 5]\n"
     ]
    }
   ],
   "source": [
    "# The above example of integer array indexing is equivalent to this:\n",
    "print(np.array([a[0, 0], a[1, 1], a[2, 0]]))"
   ]
  },
  {
   "cell_type": "code",
   "execution_count": 211,
   "metadata": {},
   "outputs": [
    {
     "name": "stdout",
     "output_type": "stream",
     "text": [
      "[2 2]\n",
      "[2 2]\n"
     ]
    }
   ],
   "source": [
    "# When using integer array indexing, you can reuse the same\n",
    "# element from the source array:\n",
    "print(a[[0, 0], [1, 1]])\n",
    "\n",
    "# Equivalent to the previous integer array indexing example\n",
    "print(np.array([a[0, 1], a[0, 1]]))"
   ]
  },
  {
   "cell_type": "markdown",
   "metadata": {},
   "source": [
    "*One* useful trick with integer array indexing is selecting or mutating one element from each row of a matrix:"
   ]
  },
  {
   "cell_type": "code",
   "execution_count": 212,
   "metadata": {},
   "outputs": [
    {
     "name": "stdout",
     "output_type": "stream",
     "text": [
      "[[ 1  2  3]\n",
      " [ 4  5  6]\n",
      " [ 7  8  9]\n",
      " [10 11 12]]\n"
     ]
    }
   ],
   "source": [
    "# Create a new array from which we will select elements\n",
    "a = np.array([[1,2,3], [4,5,6], [7,8,9], [10, 11, 12]])\n",
    "print(a)"
   ]
  },
  {
   "cell_type": "code",
   "execution_count": 213,
   "metadata": {},
   "outputs": [
    {
     "name": "stdout",
     "output_type": "stream",
     "text": [
      "[ 1  6  7 11]\n"
     ]
    }
   ],
   "source": [
    "# Create an array of indices\n",
    "b = np.array([0, 2, 0, 1])\n",
    "\n",
    "# Select one element from each row of a using the indices in b\n",
    "print(a[np.arange(4), b])  # Prints \"[ 1  6  7 11]\""
   ]
  },
  {
   "cell_type": "code",
   "execution_count": 214,
   "metadata": {},
   "outputs": [
    {
     "name": "stdout",
     "output_type": "stream",
     "text": [
      "[[11  2  3]\n",
      " [ 4  5 16]\n",
      " [17  8  9]\n",
      " [10 21 12]]\n"
     ]
    }
   ],
   "source": [
    "# Mutate one element from each row of a using the indices in b\n",
    "a[np.arange(4), b] += 10\n",
    "print(a)"
   ]
  },
  {
   "cell_type": "markdown",
   "metadata": {},
   "source": [
    "**Boolean array indexing** \n",
    "\n",
    "Boolean array indexing lets you pick out arbitrary elements of an array. Frequently this type of indexing is used to select the elements of an array that satisfy some condition. Here is an example:"
   ]
  },
  {
   "cell_type": "code",
   "execution_count": 202,
   "metadata": {},
   "outputs": [
    {
     "name": "stdout",
     "output_type": "stream",
     "text": [
      "[[False False]\n",
      " [ True  True]\n",
      " [ True  True]]\n"
     ]
    }
   ],
   "source": [
    "import numpy as np\n",
    "\n",
    "a = np.array([[1,2], [3, 4], [5, 6]])\n",
    "\n",
    "bool_idx = (a > 2)  # Find the elements of a that are bigger than 2;\n",
    "                    # this returns a numpy array of Booleans of the same\n",
    "                    # shape as a, where each slot of bool_idx tells\n",
    "                    # whether that element of a is > 2.\n",
    "\n",
    "print(bool_idx)"
   ]
  },
  {
   "cell_type": "code",
   "execution_count": 203,
   "metadata": {},
   "outputs": [
    {
     "name": "stdout",
     "output_type": "stream",
     "text": [
      "[3 4 5 6]\n",
      "[3 4 5 6]\n"
     ]
    }
   ],
   "source": [
    "# We use boolean array indexing to construct a rank 1 array\n",
    "# consisting of the elements of a corresponding to the True values\n",
    "# of bool_idx\n",
    "print(a[bool_idx])\n",
    "\n",
    "# We can do all of the above in a single concise statement:\n",
    "print(a[a > 2])"
   ]
  },
  {
   "cell_type": "markdown",
   "metadata": {},
   "source": [
    "**Data types with numpy**\n",
    "\n",
    "Every numpy array is a grid of elements of the same type. Numpy provides a large set of numeric datatypes that you can use to construct arrays. Numpy tries to guess a datatype when you create an array, but functions that construct arrays usually also include an optional argument to explicitly specify the datatype. \n",
    "\n",
    "Here is an example:"
   ]
  },
  {
   "cell_type": "code",
   "execution_count": 206,
   "metadata": {},
   "outputs": [
    {
     "name": "stdout",
     "output_type": "stream",
     "text": [
      "int32 float64 int64\n"
     ]
    }
   ],
   "source": [
    "x = np.array([1, 2])  # Let numpy choose the datatype\n",
    "y = np.array([1.5, 2.0])  # Let numpy choose the datatype\n",
    "z = np.array([1, 2], dtype=np.int64)  # Force a particular datatype\n",
    "\n",
    "print(x.dtype, y.dtype, z.dtype)"
   ]
  },
  {
   "cell_type": "markdown",
   "metadata": {},
   "source": [
    "You can read all about numpy datatypes in the [documentation](http://docs.scipy.org/doc/numpy/reference/arrays.dtypes.html)."
   ]
  },
  {
   "cell_type": "markdown",
   "metadata": {},
   "source": [
    "### Array Math\n",
    "\n",
    "Basic mathematical functions operate elementwise on arrays, and are available both as operator overloads and as functions in the numpy module:"
   ]
  },
  {
   "cell_type": "code",
   "execution_count": null,
   "metadata": {},
   "outputs": [],
   "source": [
    "x = np.array([[1,2],[3,4]], dtype=np.float64)\n",
    "y = np.array([[5,6],[7,8]], dtype=np.float64)\n",
    "\n"
   ]
  },
  {
   "cell_type": "code",
   "execution_count": null,
   "metadata": {},
   "outputs": [],
   "source": [
    "# Elementwise sum; both produce the array\n",
    "print(x + y)\n",
    "print(np.add(x, y))"
   ]
  },
  {
   "cell_type": "code",
   "execution_count": null,
   "metadata": {},
   "outputs": [],
   "source": [
    "# Elementwise difference; both produce the array\n",
    "print(x - y)\n",
    "print(np.subtract(x, y))"
   ]
  },
  {
   "cell_type": "code",
   "execution_count": null,
   "metadata": {},
   "outputs": [],
   "source": [
    "# Elementwise product; both produce the array\n",
    "print(x * y)\n",
    "print(np.multiply(x, y))"
   ]
  },
  {
   "cell_type": "code",
   "execution_count": null,
   "metadata": {},
   "outputs": [],
   "source": [
    "# Elementwise division; both produce the array\n",
    "# [[ 0.2         0.33333333]\n",
    "#  [ 0.42857143  0.5       ]]\n",
    "print(x / y)\n",
    "print(np.divide(x, y))"
   ]
  },
  {
   "cell_type": "code",
   "execution_count": null,
   "metadata": {},
   "outputs": [],
   "source": [
    "# Elementwise square root; produces the array\n",
    "# [[ 1.          1.41421356]\n",
    "#  [ 1.73205081  2.        ]]\n",
    "print(np.sqrt(x))"
   ]
  },
  {
   "cell_type": "markdown",
   "metadata": {},
   "source": [
    "**NOTE**: Unlike MATLAB, `*` is elementwise multiplication, not matrix multiplication. We instead use the dot function to compute inner products of vectors, to multiply a vector by a matrix, and to multiply matrices. dot is available both as a function in the numpy module and as an instance method of array objects:"
   ]
  },
  {
   "cell_type": "code",
   "execution_count": 109,
   "metadata": {},
   "outputs": [
    {
     "name": "stdout",
     "output_type": "stream",
     "text": [
      "219\n",
      "219\n"
     ]
    }
   ],
   "source": [
    "x = np.array([[1,2],[3,4]])\n",
    "y = np.array([[5,6],[7,8]])\n",
    "\n",
    "v = np.array([9,10])\n",
    "w = np.array([11, 12])\n",
    "\n",
    "# Inner product of vectors; both produce 219\n",
    "print(v.dot(w))\n",
    "print(np.dot(v, w))"
   ]
  },
  {
   "cell_type": "markdown",
   "metadata": {},
   "source": [
    "You can also use the `@` operator which is equivalent to numpy's `dot` \n",
    "*   List item\n",
    "*   List item\n",
    "\n",
    "operator."
   ]
  },
  {
   "cell_type": "code",
   "execution_count": 110,
   "metadata": {},
   "outputs": [
    {
     "name": "stdout",
     "output_type": "stream",
     "text": [
      "219\n"
     ]
    }
   ],
   "source": [
    "print(v @ w)"
   ]
  },
  {
   "cell_type": "code",
   "execution_count": null,
   "metadata": {},
   "outputs": [],
   "source": [
    "# Matrix / vector product; both produce the rank 1 array [29 67]\n",
    "print(x.dot(v))\n",
    "print(np.dot(x, v))\n",
    "print(x @ v)"
   ]
  },
  {
   "cell_type": "code",
   "execution_count": null,
   "metadata": {},
   "outputs": [],
   "source": [
    "# Matrix / matrix product; both produce the rank 2 array\n",
    "# [[19 22]\n",
    "#  [43 50]]\n",
    "print(x.dot(y))\n",
    "print(np.dot(x, y))\n",
    "print(x @ y)"
   ]
  },
  {
   "cell_type": "markdown",
   "metadata": {},
   "source": [
    "Numpy provides many useful functions for performing computations on arrays; one of the most useful is `sum`:"
   ]
  },
  {
   "cell_type": "code",
   "execution_count": null,
   "metadata": {},
   "outputs": [],
   "source": [
    "x = np.array([[1,2],[3,4]])\n",
    "\n",
    "print(np.sum(x))  # Compute sum of all elements; prints \"10\"\n",
    "print(np.sum(x, axis=0))  # Compute sum of each column; prints \"[4 6]\"\n",
    "print(np.sum(x, axis=1))  # Compute sum of each row; prints \"[3 7]\""
   ]
  },
  {
   "cell_type": "markdown",
   "metadata": {},
   "source": [
    "You can find the full list of mathematical functions provided by numpy in the [documentation](http://docs.scipy.org/doc/numpy/reference/routines.math.html).\n",
    "\n",
    "Apart from computing mathematical functions using arrays, we frequently need to reshape or otherwise manipulate data in arrays. The simplest example of this type of operation is transposing a matrix; to transpose a matrix, simply use the T attribute of an array object:"
   ]
  },
  {
   "cell_type": "code",
   "execution_count": null,
   "metadata": {},
   "outputs": [],
   "source": [
    "print(x)\n",
    "print(\"transpose\\n\", x.T)"
   ]
  },
  {
   "cell_type": "code",
   "execution_count": null,
   "metadata": {},
   "outputs": [],
   "source": [
    "v = np.array([[1,2,3]])\n",
    "print(v )\n",
    "print(\"transpose\\n\", v.T)"
   ]
  },
  {
   "cell_type": "markdown",
   "metadata": {},
   "source": [
    "### Broadcasting\n",
    "\n",
    "Broadcasting is a powerful mechanism that allows numpy to work with arrays of different shapes when performing arithmetic operations. Frequently we have a smaller array and a larger array, and we want to use the smaller array multiple times to perform some operation on the larger array.\n",
    "\n",
    "For example, suppose that we want to add a constant vector to each row of a matrix. We could do it like this:"
   ]
  },
  {
   "cell_type": "code",
   "execution_count": null,
   "metadata": {},
   "outputs": [],
   "source": [
    "# We will add the vector v to each row of the matrix x,\n",
    "# storing the result in the matrix y\n",
    "x = np.array([[1,2,3], [4,5,6], [7,8,9], [10, 11, 12]])\n",
    "v = np.array([1, 0, 1])\n",
    "y = np.empty_like(x)   # Create an empty matrix with the same shape as x\n",
    "\n",
    "# Add the vector v to each row of the matrix x with an explicit loop\n",
    "for i in range(4):\n",
    "    y[i, :] = x[i, :] + v\n",
    "\n",
    "print(y)"
   ]
  },
  {
   "cell_type": "markdown",
   "metadata": {},
   "source": [
    "This works; however when the matrix `x` is very large, computing an explicit loop in Python could be slow. Note that adding the vector v to each row of the matrix `x` is equivalent to forming a matrix `vv` by stacking multiple copies of `v` vertically, then performing elementwise summation of `x` and `vv`. We could implement this approach like this:"
   ]
  },
  {
   "cell_type": "code",
   "execution_count": null,
   "metadata": {},
   "outputs": [],
   "source": [
    "vv = np.tile(v, (4, 1))  # Stack 4 copies of v on top of each other\n",
    "print(vv)                # Prints \"[[1 0 1]\n",
    "                         #          [1 0 1]\n",
    "                         #          [1 0 1]\n",
    "                         #          [1 0 1]]\""
   ]
  },
  {
   "cell_type": "code",
   "execution_count": null,
   "metadata": {},
   "outputs": [],
   "source": [
    "y = x + vv  # Add x and vv elementwise\n",
    "print(y)"
   ]
  },
  {
   "cell_type": "markdown",
   "metadata": {},
   "source": [
    "Numpy broadcasting allows us to perform this computation without actually creating multiple copies of v. Consider this version, using broadcasting:"
   ]
  },
  {
   "cell_type": "code",
   "execution_count": null,
   "metadata": {},
   "outputs": [],
   "source": [
    "import numpy as np\n",
    "\n",
    "# We will add the vector v to each row of the matrix x,\n",
    "# storing the result in the matrix y\n",
    "x = np.array([[1,2,3], [4,5,6], [7,8,9], [10, 11, 12]])\n",
    "v = np.array([1, 0, 1])\n",
    "y = x + v  # Add v to each row of x using broadcasting\n",
    "print(y)"
   ]
  },
  {
   "cell_type": "code",
   "execution_count": null,
   "metadata": {},
   "outputs": [],
   "source": [
    "The line `y = x + v` works even though `x` has shape `(4, 3)` and `v` has shape `(3,)` due to broadcasting; this line works as if v actually had shape `(4, 3)`, where each row was a copy of `v`, and the sum was performed elementwise.\n",
    "\n",
    "Broadcasting two arrays together follows these rules:\n",
    "\n",
    "1. If the arrays do not have the same rank, prepend the shape of the lower rank array with 1s until both shapes have the same length.\n",
    "2. The two arrays are said to be compatible in a dimension if they have the same size in the dimension, or if one of the arrays has size 1 in that dimension.\n",
    "3. The arrays can be broadcast together if they are compatible in all dimensions.\n",
    "4. After broadcasting, each array behaves as if it had shape equal to the elementwise maximum of shapes of the two input arrays.\n",
    "5. In any dimension where one array had size 1 and the other array had size greater than 1, the first array behaves as if it were copied along that dimension\n",
    "\n",
    "If this explanation does not make sense, try reading the explanation from the [documentation](http://docs.scipy.org/doc/numpy/user/basics.broadcasting.html) or this [explanation](http://wiki.scipy.org/EricsBroadcastingDoc).\n",
    "\n",
    "Functions that support broadcasting are known as universal functions. You can find the list of all universal functions in the [documentation](http://docs.scipy.org/doc/numpy/reference/ufuncs.html#available-ufuncs).\n",
    "\n",
    "Here are some applications of broadcasting:"
   ]
  },
  {
   "cell_type": "code",
   "execution_count": null,
   "metadata": {},
   "outputs": [],
   "source": [
    "# Compute outer product of vectors\n",
    "v = np.array([1,2,3])  # v has shape (3,)\n",
    "w = np.array([4,5])    # w has shape (2,)\n",
    "# To compute an outer product, we first reshape v to be a column\n",
    "# vector of shape (3, 1); we can then broadcast it against w to yield\n",
    "# an output of shape (3, 2), which is the outer product of v and w:\n",
    "\n",
    "print(np.reshape(v, (3, 1)) * w)"
   ]
  },
  {
   "cell_type": "code",
   "execution_count": null,
   "metadata": {},
   "outputs": [],
   "source": [
    "# Add a vector to each row of a matrix\n",
    "x = np.array([[1,2,3], [4,5,6]])\n",
    "# x has shape (2, 3) and v has shape (3,) so they broadcast to (2, 3),\n",
    "# giving the following matrix:\n",
    "\n",
    "print(x + v)"
   ]
  },
  {
   "cell_type": "code",
   "execution_count": null,
   "metadata": {},
   "outputs": [],
   "source": [
    "# Add a vector to each column of a matrix\n",
    "# x has shape (2, 3) and w has shape (2,).\n",
    "# If we transpose x then it has shape (3, 2) and can be broadcast\n",
    "# against w to yield a result of shape (3, 2); transposing this result\n",
    "# yields the final result of shape (2, 3) which is the matrix x with\n",
    "# the vector w added to each column. Gives the following matrix:\n",
    "\n",
    "print((x.T + w).T)"
   ]
  },
  {
   "cell_type": "code",
   "execution_count": null,
   "metadata": {},
   "outputs": [],
   "source": [
    "# Another solution is to reshape w to be a row vector of shape (2, 1);\n",
    "# we can then broadcast it directly against x to produce the same\n",
    "# output.\n",
    "print(x + np.reshape(w, (2, 1)))"
   ]
  },
  {
   "cell_type": "code",
   "execution_count": null,
   "metadata": {},
   "outputs": [],
   "source": [
    "# Multiply a matrix by a constant:\n",
    "# x has shape (2, 3). Numpy treats scalars as arrays of shape ();\n",
    "# these can be broadcast together to shape (2, 3), producing the\n",
    "# following array:\n",
    "print(x * 2)"
   ]
  },
  {
   "cell_type": "markdown",
   "metadata": {},
   "source": [
    "Broadcasting typically makes your code more concise and faster, so you should strive to use it where possible."
   ]
  },
  {
   "cell_type": "markdown",
   "metadata": {},
   "source": [
    "This brief overview has touched on many of the important things that you \n",
    "\n",
    "1.   List item\n",
    "2.   List item\n",
    "\n",
    "need to know about numpy, but is far from complete. Check out the [numpy reference](http://docs.scipy.org/doc/numpy/reference/) to find out much more about numpy."
   ]
  }
 ],
 "metadata": {
  "kernelspec": {
   "display_name": "Python 3",
   "language": "python",
   "name": "python3"
  },
  "language_info": {
   "codemirror_mode": {
    "name": "ipython",
    "version": 3
   },
   "file_extension": ".py",
   "mimetype": "text/x-python",
   "name": "python",
   "nbconvert_exporter": "python",
   "pygments_lexer": "ipython3",
   "version": "3.7.3"
  }
 },
 "nbformat": 4,
 "nbformat_minor": 2
}
