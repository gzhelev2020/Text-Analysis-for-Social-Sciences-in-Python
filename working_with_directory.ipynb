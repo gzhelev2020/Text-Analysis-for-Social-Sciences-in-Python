{
 "cells": [
  {
   "cell_type": "code",
   "execution_count": 2,
   "id": "db8be316-a8cc-40f3-baba-b94e720a6eed",
   "metadata": {},
   "outputs": [
    {
     "data": {
      "text/plain": [
       "['.git',\n",
       " '.ipynb_checkpoints',\n",
       " 'Lecture-slides“',\n",
       " 'Mappe1.xlsx',\n",
       " 'Python Setup instructions .pdf',\n",
       " 'README_Syllabus_Channels.md',\n",
       " 'Text_Course_syllabus_WiSe2122_08102021.pdf',\n",
       " 'W1_Python_basics.ipynb',\n",
       " 'Week1_slides.pdf',\n",
       " 'working_with_directory.ipynb']"
      ]
     },
     "execution_count": 2,
     "metadata": {},
     "output_type": "execute_result"
    }
   ],
   "source": [
    "import os\n",
    "import pandas as pd\n",
    "os.getcwd()\n",
    "#os.chdir()\n",
    "os.listdir()\n",
    "#os.makedir('test_folder')\n"
   ]
  },
  {
   "cell_type": "code",
   "execution_count": 10,
   "id": "879116ab-ef35-4fbc-8377-190d85d983e5",
   "metadata": {},
   "outputs": [
    {
     "name": "stdout",
     "output_type": "stream",
     "text": [
      "C:\\Users\\zhele\\OneDrive - Universität Hamburg\\Desktop\\Text Analysis\\Text-Analysis-for-Social-Sciences-in-Python\n"
     ]
    }
   ],
   "source": [
    "print(os.getcwd())\n",
    "path = \"C:/Users/zhele/OneDrive - Universität Hamburg/Desktop/Text Analysis/Text-Analysis-for-Social-Sciences-in-Python/Mappe1.xlsx\""
   ]
  },
  {
   "cell_type": "code",
   "execution_count": 4,
   "id": "339aaee3-1203-4364-96e3-595cc4406ebc",
   "metadata": {},
   "outputs": [],
   "source": [
    "path = \"C:/Users/zhele/OneDrive - Universität Hamburg/Desktop/Text Analysis/Text-Analysis-for-Social-Sciences-in-Python/Mappe1.xlsx\""
   ]
  },
  {
   "cell_type": "code",
   "execution_count": 5,
   "id": "c1bc5b5c-92e7-4b78-a15e-6ea1328292ac",
   "metadata": {},
   "outputs": [
    {
     "data": {
      "text/plain": [
       "'C:/Users/zhele/OneDrive - Universität Hamburg/Desktop/Text Analysis/Text-Analysis-for-Social-Sciences-in-Python/Mappe1.xlsx'"
      ]
     },
     "execution_count": 5,
     "metadata": {},
     "output_type": "execute_result"
    }
   ],
   "source": [
    "path"
   ]
  },
  {
   "cell_type": "code",
   "execution_count": 6,
   "id": "d06737e1-19e5-429e-b433-e00342145173",
   "metadata": {},
   "outputs": [
    {
     "data": {
      "text/html": [
       "<div>\n",
       "<style scoped>\n",
       "    .dataframe tbody tr th:only-of-type {\n",
       "        vertical-align: middle;\n",
       "    }\n",
       "\n",
       "    .dataframe tbody tr th {\n",
       "        vertical-align: top;\n",
       "    }\n",
       "\n",
       "    .dataframe thead th {\n",
       "        text-align: right;\n",
       "    }\n",
       "</style>\n",
       "<table border=\"1\" class=\"dataframe\">\n",
       "  <thead>\n",
       "    <tr style=\"text-align: right;\">\n",
       "      <th></th>\n",
       "      <th>1</th>\n",
       "      <th>2</th>\n",
       "      <th>3</th>\n",
       "    </tr>\n",
       "  </thead>\n",
       "  <tbody>\n",
       "    <tr>\n",
       "      <th>0</th>\n",
       "      <td>x</td>\n",
       "      <td>x</td>\n",
       "      <td>x</td>\n",
       "    </tr>\n",
       "  </tbody>\n",
       "</table>\n",
       "</div>"
      ],
      "text/plain": [
       "   1  2  3\n",
       "0  x  x  x"
      ]
     },
     "execution_count": 6,
     "metadata": {},
     "output_type": "execute_result"
    }
   ],
   "source": [
    "pd.read_excel(path)"
   ]
  },
  {
   "cell_type": "code",
   "execution_count": 12,
   "id": "c4a0d84f-b27d-47f6-9f60-11deb18a5438",
   "metadata": {},
   "outputs": [],
   "source": [
    "#if open file specify the encoding\n",
    "f = open(\"test.txt\", encoding = 'utf-8')\n",
    "#perform file operations\n",
    "f.close()"
   ]
  },
  {
   "cell_type": "code",
   "execution_count": 16,
   "id": "840f51dc-46ce-4738-b8a3-83e347b38f32",
   "metadata": {},
   "outputs": [],
   "source": [
    "#! conda install pandas\n",
    "#! conda list\n"
   ]
  },
  {
   "cell_type": "code",
   "execution_count": 20,
   "id": "f2e60127-3b1e-40e3-ad71-cf2bf5ecc5af",
   "metadata": {},
   "outputs": [
    {
     "name": "stdout",
     "output_type": "stream",
     "text": [
      "XXL\n"
     ]
    }
   ],
   "source": [
    "x = 51\n",
    "if x<30:\n",
    "    print('small')\n",
    "elif 30<=x<35:\n",
    "    print('medium')\n",
    "elif 35<=x<40:\n",
    "    print('L')\n",
    "elif 40<=x<50:\n",
    "    print('XL')\n",
    "else:\n",
    "    print('XXL')"
   ]
  },
  {
   "cell_type": "code",
   "execution_count": 21,
   "id": "74de938f-84c9-458e-8a0a-16a0c33d4cfe",
   "metadata": {},
   "outputs": [
    {
     "data": {
      "text/plain": [
       "[40, 41, 42, 43, 44, 45, 46, 47, 48, 49]"
      ]
     },
     "execution_count": 21,
     "metadata": {},
     "output_type": "execute_result"
    }
   ],
   "source": [
    "list(range(40,50))"
   ]
  },
  {
   "cell_type": "code",
   "execution_count": 23,
   "id": "7d50200a-dc61-42ef-96a1-9df52c70b950",
   "metadata": {},
   "outputs": [
    {
     "name": "stdout",
     "output_type": "stream",
     "text": [
      "10\n",
      "20\n",
      "30\n"
     ]
    }
   ],
   "source": [
    "for x in [10, 20, 30]:\n",
    "    print(x)"
   ]
  },
  {
   "cell_type": "code",
   "execution_count": 32,
   "id": "87fe8779-76c2-4b17-8b06-9f8d1daa53af",
   "metadata": {},
   "outputs": [
    {
     "name": "stdout",
     "output_type": "stream",
     "text": [
      "Hi, George!\n",
      "HELLO, JOSIE\n"
     ]
    }
   ],
   "source": [
    "def hello(name, big=False):\n",
    "    if big:\n",
    "        print('HELLO, {}'.format(name.upper()))\n",
    "    else:\n",
    "        print('Hi, {}!'.format(name))\n",
    "        \n",
    "hello('George')\n",
    "hello('Josie', big=True)"
   ]
  },
  {
   "cell_type": "code",
   "execution_count": 34,
   "id": "a44d591b-acd3-49d3-a6ba-2b4e61b0d4b6",
   "metadata": {},
   "outputs": [],
   "source": [
    "list = []\n",
    "\n",
    "for x in list:\n",
    "    if x is None:\n",
    "        print('Does not exist')"
   ]
  },
  {
   "cell_type": "code",
   "execution_count": 38,
   "id": "16d39b5a-306b-4e56-b271-27754655551c",
   "metadata": {},
   "outputs": [],
   "source": [
    "#how does it work?"
   ]
  },
  {
   "cell_type": "code",
   "execution_count": 39,
   "id": "61b93bf0-c797-4233-8f70-ecc3338ff4e2",
   "metadata": {},
   "outputs": [],
   "source": [
    "import numpy as np"
   ]
  },
  {
   "cell_type": "code",
   "execution_count": 40,
   "id": "32cfe878-f7d4-4b29-b2e0-3ce34dad71f9",
   "metadata": {},
   "outputs": [
    {
     "ename": "NameError",
     "evalue": "name 'a' is not defined",
     "output_type": "error",
     "traceback": [
      "\u001b[1;31m---------------------------------------------------------------------------\u001b[0m",
      "\u001b[1;31mNameError\u001b[0m                                 Traceback (most recent call last)",
      "\u001b[1;32m~\\AppData\\Local\\Temp/ipykernel_15664/591417071.py\u001b[0m in \u001b[0;36m<module>\u001b[1;34m\u001b[0m\n\u001b[1;32m----> 1\u001b[1;33m \u001b[0mprint\u001b[0m\u001b[1;33m(\u001b[0m\u001b[0ma\u001b[0m\u001b[1;33m[\u001b[0m\u001b[1;36m0\u001b[0m\u001b[1;33m,\u001b[0m\u001b[1;36m1\u001b[0m\u001b[1;33m]\u001b[0m\u001b[1;33m)\u001b[0m\u001b[1;33m\u001b[0m\u001b[1;33m\u001b[0m\u001b[0m\n\u001b[0m",
      "\u001b[1;31mNameError\u001b[0m: name 'a' is not defined"
     ]
    }
   ],
   "source": [
    "\n",
    "print(a[0,1])"
   ]
  },
  {
   "cell_type": "code",
   "execution_count": null,
   "id": "1b3f912d-fb26-4d12-9603-b0f2e0a30c45",
   "metadata": {},
   "outputs": [],
   "source": []
  }
 ],
 "metadata": {
  "kernelspec": {
   "display_name": "Python 3 (ipykernel)",
   "language": "python",
   "name": "python3"
  },
  "language_info": {
   "codemirror_mode": {
    "name": "ipython",
    "version": 3
   },
   "file_extension": ".py",
   "mimetype": "text/x-python",
   "name": "python",
   "nbconvert_exporter": "python",
   "pygments_lexer": "ipython3",
   "version": "3.8.12"
  }
 },
 "nbformat": 4,
 "nbformat_minor": 5
}
